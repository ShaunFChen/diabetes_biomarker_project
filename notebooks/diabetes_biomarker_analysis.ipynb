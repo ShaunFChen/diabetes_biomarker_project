{
 "cells": [
  {
   "cell_type": "markdown",
   "id": "0eab425d-d6ea-4c6b-a9de-1fdaa4401d9b",
   "metadata": {},
   "source": [
    "# Data Loading and Setup"
   ]
  },
  {
   "cell_type": "markdown",
   "id": "db5c5eaa-88fd-41ef-9804-35e79ca22efe",
   "metadata": {},
   "source": [
    "## Import Libraries"
   ]
  },
  {
   "cell_type": "code",
   "execution_count": 1,
   "id": "533cdf53-4eda-4477-8a99-b2292733259d",
   "metadata": {
    "execution": {
     "iopub.execute_input": "2024-09-18T06:04:21.757725Z",
     "iopub.status.busy": "2024-09-18T06:04:21.756742Z",
     "iopub.status.idle": "2024-09-18T06:04:26.170301Z",
     "shell.execute_reply": "2024-09-18T06:04:26.167020Z",
     "shell.execute_reply.started": "2024-09-18T06:04:21.757620Z"
    }
   },
   "outputs": [],
   "source": [
    "# Data manipulation\n",
    "import os\n",
    "import numpy as np\n",
    "import pandas as pd\n",
    "\n",
    "# Visualization\n",
    "import matplotlib.pyplot as plt\n",
    "import seaborn as sns\n",
    "\n",
    "# Statistical analysis\n",
    "import statsmodels.api as sm\n",
    "from scipy import stats\n",
    "\n",
    "# Machine learning\n",
    "from sklearn.model_selection import train_test_split\n",
    "from sklearn.linear_model import LogisticRegression\n",
    "from sklearn.metrics import (\n",
    "    roc_auc_score,\n",
    "    classification_report,\n",
    "    confusion_matrix,\n",
    "    roc_curve,\n",
    ")\n",
    "\n",
    "# Settings\n",
    "%matplotlib inline\n",
    "sns.set_style('whitegrid')\n",
    "\n",
    "# Add src to the system path to access utility functions\n",
    "import sys\n",
    "import logging\n",
    "from pathlib import Path\n",
    "sys.path.append(str(Path().resolve().parent / 'src'))\n",
    "\n",
    "# Import your custom functions from data_utils.py\n",
    "from data.data_utils import load_data, setup_logging"
   ]
  },
  {
   "cell_type": "markdown",
   "id": "d93e20de-be3a-4952-ae85-3228e4bbf134",
   "metadata": {},
   "source": [
    "## Configuration/Setup"
   ]
  },
  {
   "cell_type": "code",
   "execution_count": null,
   "id": "75adffbb-327a-40ef-9337-506a83c92c7b",
   "metadata": {},
   "outputs": [],
   "source": [
    "# Set up logging\n",
    "setup_logging(\"INFO\")\n",
    "\n",
    "# Define file path and columns\n",
    "raw_data_path = '../data/raw/test_project_data.csv'\n",
    "category_columns = ['subject_id', 'sex']\n",
    "numeric_columns = ['age', 'BMI', 'prevalent_diabetes', 'incident_diabetes', 'diabetes_followup_time']\n",
    "biomarker_pattern = '^mtb_'"
   ]
  },
  {
   "cell_type": "code",
   "execution_count": null,
   "id": "639a1cd1-e950-468f-a41e-6fa9f49539a9",
   "metadata": {},
   "outputs": [],
   "source": []
  },
  {
   "cell_type": "markdown",
   "id": "cc189da2-ef9a-4db0-8bee-53063e6a138f",
   "metadata": {},
   "source": [
    "## Load Dataset"
   ]
  },
  {
   "cell_type": "code",
   "execution_count": 2,
   "id": "a0312ca2-8097-4118-bdb3-d2ba32c44a96",
   "metadata": {
    "execution": {
     "iopub.execute_input": "2024-09-18T05:48:57.690491Z",
     "iopub.status.busy": "2024-09-18T05:48:57.689895Z",
     "iopub.status.idle": "2024-09-18T05:48:57.727488Z",
     "shell.execute_reply": "2024-09-18T05:48:57.724679Z",
     "shell.execute_reply.started": "2024-09-18T05:48:57.690425Z"
    },
    "jupyter": {
     "source_hidden": true
    }
   },
   "outputs": [],
   "source": [
    "# import re\n",
    "# import os\n",
    "# import logging\n",
    "# import pandas as pd\n",
    "# import numpy as np\n",
    "# from pathlib import Path\n",
    "\n",
    "# # Set up logging in a notebook-friendly way\n",
    "# def setup_logging(level=\"INFO\"):\n",
    "#     \"\"\"Set up logging configuration for Jupyter Notebook.\"\"\"\n",
    "#     numeric_level = getattr(logging, level.upper(), None)\n",
    "#     if not isinstance(numeric_level, int):\n",
    "#         raise ValueError(f\"Invalid log level: {level}\")\n",
    "    \n",
    "#     logger = logging.getLogger()\n",
    "#     if not logger.hasHandlers():\n",
    "#         logging.basicConfig(level=numeric_level, format='%(asctime)s - %(levelname)s - %(message)s')\n",
    "#     else:\n",
    "#         logger.setLevel(numeric_level)\n",
    "\n",
    "# # Check if the data file exists\n",
    "# def check_file_exists(file_path):\n",
    "#     \"\"\"Raise an error if the file does not exist.\"\"\"\n",
    "#     if not file_path.exists():\n",
    "#         raise FileNotFoundError(f\"Data file not found at {file_path}.\")\n",
    "\n",
    "# # Get data types for columns\n",
    "# def get_dtypes(category_columns, numeric_columns, biomarker_cols):\n",
    "#     \"\"\"\n",
    "#     Define the data types for each column in the dataset.\n",
    "    \n",
    "#     Parameters:\n",
    "#     category_columns (list): List of categorical column names\n",
    "#     numeric_columns (list): List of numeric column names\n",
    "#     biomarker_cols (list): List of biomarker column names\n",
    "\n",
    "#     Returns:\n",
    "#     dict: A dictionary mapping column names to data types\n",
    "#     \"\"\"\n",
    "#     dtypes = {col: 'category' for col in category_columns}\n",
    "#     dtypes.update({col: np.float64 for col in numeric_columns})\n",
    "#     for col in biomarker_cols:\n",
    "#         dtypes[col] = np.float64\n",
    "#     return dtypes\n",
    "\n",
    "# # Load data with specific column patterns and types\n",
    "# def load_data(raw_data_path, category_columns, numeric_columns, biomarker_pattern):\n",
    "#     \"\"\"\n",
    "#     Load dataset based on column patterns and types.\n",
    "    \n",
    "#     Parameters:\n",
    "#     raw_data_path (str): Path to the raw data CSV file\n",
    "#     category_columns (list): List of categorical column names\n",
    "#     numeric_columns (list): List of numeric column names\n",
    "#     biomarker_pattern (str): Regex pattern to identify biomarker columns\n",
    "\n",
    "#     Returns:\n",
    "#     pd.DataFrame: Loaded dataset\n",
    "#     \"\"\"\n",
    "#     # Check if the file exists\n",
    "#     check_file_exists(Path(raw_data_path))\n",
    "\n",
    "#     # Read only the headers (column names) using readline for speed\n",
    "#     with open(raw_data_path, 'r') as file:\n",
    "#         first_line = file.readline().strip()\n",
    "\n",
    "#     # Split the first line by comma (or the appropriate delimiter)\n",
    "#     column_names = first_line.split(',')\n",
    "\n",
    "#     # Create a list of biomarker columns based on the pattern\n",
    "#     biomarker_cols = [col for col in column_names if re.search(biomarker_pattern, col)]\n",
    "\n",
    "#     # Define data types for the dataset\n",
    "#     dtypes = get_dtypes(category_columns, numeric_columns, biomarker_cols)\n",
    "\n",
    "#     # Load the full dataset with the specified data types\n",
    "#     raw_df = pd.read_csv(raw_data_path, dtype=dtypes, engine='pyarrow')\n",
    "\n",
    "#     logging.info(f\"Dataset shape: {raw_df.shape}\")\n",
    "\n",
    "#     return raw_df"
   ]
  },
  {
   "cell_type": "code",
   "execution_count": 5,
   "id": "ab17bc6e-0fba-4e80-8dd2-b48e444d2355",
   "metadata": {
    "execution": {
     "iopub.execute_input": "2024-09-18T06:08:29.887888Z",
     "iopub.status.busy": "2024-09-18T06:08:29.886296Z",
     "iopub.status.idle": "2024-09-18T06:08:56.706673Z",
     "shell.execute_reply": "2024-09-18T06:08:56.704463Z",
     "shell.execute_reply.started": "2024-09-18T06:08:29.887732Z"
    }
   },
   "outputs": [
    {
     "name": "stderr",
     "output_type": "stream",
     "text": [
      "2024-09-17 23:08:56,484 - INFO - Dataset shape: (8291, 10007)\n",
      "2024-09-17 23:08:56,500 - INFO - Dataset preview:\n"
     ]
    },
    {
     "data": {
      "text/html": [
       "<div>\n",
       "<style scoped>\n",
       "    .dataframe tbody tr th:only-of-type {\n",
       "        vertical-align: middle;\n",
       "    }\n",
       "\n",
       "    .dataframe tbody tr th {\n",
       "        vertical-align: top;\n",
       "    }\n",
       "\n",
       "    .dataframe thead th {\n",
       "        text-align: right;\n",
       "    }\n",
       "</style>\n",
       "<table border=\"1\" class=\"dataframe\">\n",
       "  <thead>\n",
       "    <tr style=\"text-align: right;\">\n",
       "      <th></th>\n",
       "      <th>subject_id</th>\n",
       "      <th>mtb_0018261</th>\n",
       "      <th>mtb_0018266</th>\n",
       "      <th>mtb_0018325</th>\n",
       "      <th>mtb_0018326</th>\n",
       "      <th>mtb_0018327</th>\n",
       "      <th>mtb_0018351</th>\n",
       "      <th>mtb_0018362</th>\n",
       "      <th>mtb_0018470</th>\n",
       "      <th>mtb_0018509</th>\n",
       "      <th>...</th>\n",
       "      <th>mtb_2127305</th>\n",
       "      <th>mtb_2129124</th>\n",
       "      <th>mtb_2129210</th>\n",
       "      <th>mtb_2129554</th>\n",
       "      <th>BMI</th>\n",
       "      <th>age</th>\n",
       "      <th>sex</th>\n",
       "      <th>prevalent_diabetes</th>\n",
       "      <th>incident_diabetes</th>\n",
       "      <th>diabetes_followup_time</th>\n",
       "    </tr>\n",
       "  </thead>\n",
       "  <tbody>\n",
       "    <tr>\n",
       "      <th>0</th>\n",
       "      <td>sbj_0000</td>\n",
       "      <td>5885.011</td>\n",
       "      <td>15177.95</td>\n",
       "      <td>19653.31</td>\n",
       "      <td>12611.670</td>\n",
       "      <td>9042.063</td>\n",
       "      <td>NaN</td>\n",
       "      <td>60124.56</td>\n",
       "      <td>9552.881</td>\n",
       "      <td>NaN</td>\n",
       "      <td>...</td>\n",
       "      <td>NaN</td>\n",
       "      <td>NaN</td>\n",
       "      <td>22112.25</td>\n",
       "      <td>NaN</td>\n",
       "      <td>18.664268</td>\n",
       "      <td>33.81</td>\n",
       "      <td>male</td>\n",
       "      <td>0.0</td>\n",
       "      <td>0.0</td>\n",
       "      <td>14.77</td>\n",
       "    </tr>\n",
       "    <tr>\n",
       "      <th>1</th>\n",
       "      <td>sbj_0001</td>\n",
       "      <td>7624.425</td>\n",
       "      <td>10901.94</td>\n",
       "      <td>12129.36</td>\n",
       "      <td>9336.460</td>\n",
       "      <td>21680.930</td>\n",
       "      <td>NaN</td>\n",
       "      <td>83700.80</td>\n",
       "      <td>15068.120</td>\n",
       "      <td>NaN</td>\n",
       "      <td>...</td>\n",
       "      <td>NaN</td>\n",
       "      <td>NaN</td>\n",
       "      <td>NaN</td>\n",
       "      <td>NaN</td>\n",
       "      <td>28.175977</td>\n",
       "      <td>68.56</td>\n",
       "      <td>male</td>\n",
       "      <td>0.0</td>\n",
       "      <td>0.0</td>\n",
       "      <td>14.77</td>\n",
       "    </tr>\n",
       "    <tr>\n",
       "      <th>2</th>\n",
       "      <td>sbj_0002</td>\n",
       "      <td>7220.400</td>\n",
       "      <td>18086.69</td>\n",
       "      <td>23707.55</td>\n",
       "      <td>7344.697</td>\n",
       "      <td>26314.650</td>\n",
       "      <td>NaN</td>\n",
       "      <td>82482.38</td>\n",
       "      <td>13911.300</td>\n",
       "      <td>NaN</td>\n",
       "      <td>...</td>\n",
       "      <td>15185.790</td>\n",
       "      <td>NaN</td>\n",
       "      <td>19425.35</td>\n",
       "      <td>NaN</td>\n",
       "      <td>22.971959</td>\n",
       "      <td>55.68</td>\n",
       "      <td>male</td>\n",
       "      <td>0.0</td>\n",
       "      <td>0.0</td>\n",
       "      <td>14.77</td>\n",
       "    </tr>\n",
       "    <tr>\n",
       "      <th>3</th>\n",
       "      <td>sbj_0003</td>\n",
       "      <td>6797.486</td>\n",
       "      <td>12364.85</td>\n",
       "      <td>17775.76</td>\n",
       "      <td>25836.150</td>\n",
       "      <td>30563.140</td>\n",
       "      <td>NaN</td>\n",
       "      <td>92839.12</td>\n",
       "      <td>11690.130</td>\n",
       "      <td>NaN</td>\n",
       "      <td>...</td>\n",
       "      <td>NaN</td>\n",
       "      <td>NaN</td>\n",
       "      <td>NaN</td>\n",
       "      <td>NaN</td>\n",
       "      <td>21.960370</td>\n",
       "      <td>43.89</td>\n",
       "      <td>female</td>\n",
       "      <td>0.0</td>\n",
       "      <td>0.0</td>\n",
       "      <td>14.78</td>\n",
       "    </tr>\n",
       "    <tr>\n",
       "      <th>4</th>\n",
       "      <td>sbj_0004</td>\n",
       "      <td>NaN</td>\n",
       "      <td>19046.33</td>\n",
       "      <td>18701.06</td>\n",
       "      <td>14137.270</td>\n",
       "      <td>27020.920</td>\n",
       "      <td>NaN</td>\n",
       "      <td>85453.69</td>\n",
       "      <td>9579.896</td>\n",
       "      <td>NaN</td>\n",
       "      <td>...</td>\n",
       "      <td>5318.547</td>\n",
       "      <td>NaN</td>\n",
       "      <td>NaN</td>\n",
       "      <td>NaN</td>\n",
       "      <td>40.454949</td>\n",
       "      <td>47.76</td>\n",
       "      <td>male</td>\n",
       "      <td>0.0</td>\n",
       "      <td>0.0</td>\n",
       "      <td>14.86</td>\n",
       "    </tr>\n",
       "  </tbody>\n",
       "</table>\n",
       "<p>5 rows × 10007 columns</p>\n",
       "</div>"
      ],
      "text/plain": [
       "  subject_id  mtb_0018261  mtb_0018266  mtb_0018325  mtb_0018326  mtb_0018327  \\\n",
       "0   sbj_0000     5885.011     15177.95     19653.31    12611.670     9042.063   \n",
       "1   sbj_0001     7624.425     10901.94     12129.36     9336.460    21680.930   \n",
       "2   sbj_0002     7220.400     18086.69     23707.55     7344.697    26314.650   \n",
       "3   sbj_0003     6797.486     12364.85     17775.76    25836.150    30563.140   \n",
       "4   sbj_0004          NaN     19046.33     18701.06    14137.270    27020.920   \n",
       "\n",
       "   mtb_0018351  mtb_0018362  mtb_0018470  mtb_0018509  ...  mtb_2127305  \\\n",
       "0          NaN     60124.56     9552.881          NaN  ...          NaN   \n",
       "1          NaN     83700.80    15068.120          NaN  ...          NaN   \n",
       "2          NaN     82482.38    13911.300          NaN  ...    15185.790   \n",
       "3          NaN     92839.12    11690.130          NaN  ...          NaN   \n",
       "4          NaN     85453.69     9579.896          NaN  ...     5318.547   \n",
       "\n",
       "   mtb_2129124  mtb_2129210  mtb_2129554        BMI    age     sex  \\\n",
       "0          NaN     22112.25          NaN  18.664268  33.81    male   \n",
       "1          NaN          NaN          NaN  28.175977  68.56    male   \n",
       "2          NaN     19425.35          NaN  22.971959  55.68    male   \n",
       "3          NaN          NaN          NaN  21.960370  43.89  female   \n",
       "4          NaN          NaN          NaN  40.454949  47.76    male   \n",
       "\n",
       "   prevalent_diabetes  incident_diabetes  diabetes_followup_time  \n",
       "0                 0.0                0.0                   14.77  \n",
       "1                 0.0                0.0                   14.77  \n",
       "2                 0.0                0.0                   14.77  \n",
       "3                 0.0                0.0                   14.78  \n",
       "4                 0.0                0.0                   14.86  \n",
       "\n",
       "[5 rows x 10007 columns]"
      ]
     },
     "execution_count": 5,
     "metadata": {},
     "output_type": "execute_result"
    }
   ],
   "source": [
    "# Load data\n",
    "raw_df = load_data(raw_data_path, category_columns, numeric_columns, biomarker_pattern)\n",
    "\n",
    "# Display the first few rows of the dataset\n",
    "logging.info(\"Dataset preview:\")\n",
    "raw_df.head()"
   ]
  },
  {
   "cell_type": "code",
   "execution_count": null,
   "id": "1a3a389e-0b42-4d62-aa29-a657f5bc2b26",
   "metadata": {},
   "outputs": [],
   "source": []
  },
  {
   "cell_type": "code",
   "execution_count": null,
   "id": "5e201719-20a9-4417-9da6-607af0c48b17",
   "metadata": {},
   "outputs": [],
   "source": []
  },
  {
   "cell_type": "markdown",
   "id": "89a78920-9ee4-4716-8ada-0d5f7606040c",
   "metadata": {},
   "source": [
    "# Data Preprocessing"
   ]
  },
  {
   "cell_type": "markdown",
   "id": "599e3dea-4777-498c-9975-e233b5f8cc5c",
   "metadata": {},
   "source": [
    "## Data Overview"
   ]
  },
  {
   "cell_type": "code",
   "execution_count": 4,
   "id": "ac125233-2287-4791-9a76-ea9ac113a234",
   "metadata": {
    "execution": {
     "iopub.execute_input": "2024-09-18T05:49:25.677609Z",
     "iopub.status.busy": "2024-09-18T05:49:25.676960Z",
     "iopub.status.idle": "2024-09-18T05:49:29.354009Z",
     "shell.execute_reply": "2024-09-18T05:49:29.350471Z",
     "shell.execute_reply.started": "2024-09-18T05:49:25.677540Z"
    }
   },
   "outputs": [
    {
     "data": {
      "text/html": [
       "<div>\n",
       "<style scoped>\n",
       "    .dataframe tbody tr th:only-of-type {\n",
       "        vertical-align: middle;\n",
       "    }\n",
       "\n",
       "    .dataframe tbody tr th {\n",
       "        vertical-align: top;\n",
       "    }\n",
       "\n",
       "    .dataframe thead th {\n",
       "        text-align: right;\n",
       "    }\n",
       "</style>\n",
       "<table border=\"1\" class=\"dataframe\">\n",
       "  <thead>\n",
       "    <tr style=\"text-align: right;\">\n",
       "      <th></th>\n",
       "      <th>column</th>\n",
       "      <th>missing_rate</th>\n",
       "    </tr>\n",
       "  </thead>\n",
       "  <tbody>\n",
       "    <tr>\n",
       "      <th>0</th>\n",
       "      <td>mtb_0142579</td>\n",
       "      <td>0.994452</td>\n",
       "    </tr>\n",
       "    <tr>\n",
       "      <th>1</th>\n",
       "      <td>mtb_1385957</td>\n",
       "      <td>0.994211</td>\n",
       "    </tr>\n",
       "    <tr>\n",
       "      <th>2</th>\n",
       "      <td>mtb_1422699</td>\n",
       "      <td>0.992763</td>\n",
       "    </tr>\n",
       "    <tr>\n",
       "      <th>3</th>\n",
       "      <td>mtb_1068441</td>\n",
       "      <td>0.992763</td>\n",
       "    </tr>\n",
       "    <tr>\n",
       "      <th>4</th>\n",
       "      <td>mtb_0889532</td>\n",
       "      <td>0.992643</td>\n",
       "    </tr>\n",
       "    <tr>\n",
       "      <th>...</th>\n",
       "      <td>...</td>\n",
       "      <td>...</td>\n",
       "    </tr>\n",
       "    <tr>\n",
       "      <th>6377</th>\n",
       "      <td>mtb_0634601</td>\n",
       "      <td>0.301049</td>\n",
       "    </tr>\n",
       "    <tr>\n",
       "      <th>6378</th>\n",
       "      <td>mtb_1807948</td>\n",
       "      <td>0.300808</td>\n",
       "    </tr>\n",
       "    <tr>\n",
       "      <th>6379</th>\n",
       "      <td>mtb_1855856</td>\n",
       "      <td>0.300687</td>\n",
       "    </tr>\n",
       "    <tr>\n",
       "      <th>6380</th>\n",
       "      <td>mtb_1561131</td>\n",
       "      <td>0.300326</td>\n",
       "    </tr>\n",
       "    <tr>\n",
       "      <th>6381</th>\n",
       "      <td>mtb_0826817</td>\n",
       "      <td>0.300205</td>\n",
       "    </tr>\n",
       "  </tbody>\n",
       "</table>\n",
       "<p>6382 rows × 2 columns</p>\n",
       "</div>"
      ],
      "text/plain": [
       "           column  missing_rate\n",
       "0     mtb_0142579      0.994452\n",
       "1     mtb_1385957      0.994211\n",
       "2     mtb_1422699      0.992763\n",
       "3     mtb_1068441      0.992763\n",
       "4     mtb_0889532      0.992643\n",
       "...           ...           ...\n",
       "6377  mtb_0634601      0.301049\n",
       "6378  mtb_1807948      0.300808\n",
       "6379  mtb_1855856      0.300687\n",
       "6380  mtb_1561131      0.300326\n",
       "6381  mtb_0826817      0.300205\n",
       "\n",
       "[6382 rows x 2 columns]"
      ]
     },
     "execution_count": 4,
     "metadata": {},
     "output_type": "execute_result"
    }
   ],
   "source": [
    "# Calculate missingness rate for each column\n",
    "missingness_rate = raw_df.isnull().mean().sort_values(ascending=False).reset_index()\n",
    "missingness_rate.columns = ['column', 'missing_rate']\n",
    "\n",
    "# Filter columns with >30% missingness\n",
    "filtered_missingness = missingness_rate[missingness_rate['missing_rate'] > 0.30]\n",
    "\n",
    "# Display or return the filtered missingness DataFrame\n",
    "filtered_missingness"
   ]
  },
  {
   "cell_type": "code",
   "execution_count": 5,
   "id": "a545a7eb-ed1f-438a-b96a-4cf444ff4c0f",
   "metadata": {
    "execution": {
     "iopub.execute_input": "2024-09-18T05:49:29.379776Z",
     "iopub.status.busy": "2024-09-18T05:49:29.378933Z",
     "iopub.status.idle": "2024-09-18T05:49:29.388708Z",
     "shell.execute_reply": "2024-09-18T05:49:29.386580Z",
     "shell.execute_reply.started": "2024-09-18T05:49:29.379707Z"
    }
   },
   "outputs": [],
   "source": [
    "# missing_corr = raw_df.isnull().corr()\n",
    "# sns.heatmap(missing_corr, cmap=\"coolwarm\", annot=True)"
   ]
  },
  {
   "cell_type": "code",
   "execution_count": null,
   "id": "2d1e9831-8999-42de-bdb2-0c031a951d26",
   "metadata": {},
   "outputs": [],
   "source": []
  },
  {
   "cell_type": "code",
   "execution_count": null,
   "id": "29def883-de85-4bd1-9903-7c85789d2883",
   "metadata": {
    "execution": {
     "execution_failed": "2024-09-18T06:04:13.891Z",
     "iopub.execute_input": "2024-09-18T05:49:29.391547Z",
     "iopub.status.busy": "2024-09-18T05:49:29.390946Z"
    }
   },
   "outputs": [],
   "source": [
    "import missingno as msno\n",
    "msno.matrix(raw_df)\n",
    "msno.heatmap(raw_df)"
   ]
  },
  {
   "cell_type": "code",
   "execution_count": null,
   "id": "02b0bf8c-f4e5-472d-94b0-c348d63aa511",
   "metadata": {},
   "outputs": [],
   "source": []
  },
  {
   "cell_type": "code",
   "execution_count": null,
   "id": "5fc84b87-3c17-4e21-bb75-37023f822668",
   "metadata": {},
   "outputs": [],
   "source": []
  },
  {
   "cell_type": "markdown",
   "id": "a159e6ed-bcde-464e-ad4b-84d5a1d3aec7",
   "metadata": {},
   "source": [
    "## Handle Missing Values"
   ]
  },
  {
   "cell_type": "code",
   "execution_count": null,
   "id": "f64f59a3-964f-4778-b795-8292d7c2c93c",
   "metadata": {},
   "outputs": [],
   "source": []
  },
  {
   "cell_type": "markdown",
   "id": "7b72e812-4f64-49d4-82d4-d4cf69f7e125",
   "metadata": {},
   "source": [
    "## Encode Categorical Variables"
   ]
  },
  {
   "cell_type": "code",
   "execution_count": null,
   "id": "d2e93e47-5aff-4e8a-b800-0735144a3127",
   "metadata": {},
   "outputs": [],
   "source": [
    "raw_df['sex'] = raw_df['sex'].map({'male': 1, 'female': 0})"
   ]
  },
  {
   "cell_type": "markdown",
   "id": "2f2e1987-a6ca-49b0-bd5c-3bfa45245056",
   "metadata": {},
   "source": [
    "## Identify Biomarker Columns\n"
   ]
  },
  {
   "cell_type": "code",
   "execution_count": null,
   "id": "0adaffd4-a822-45ae-a6a2-de7c70326c11",
   "metadata": {},
   "outputs": [],
   "source": []
  },
  {
   "cell_type": "markdown",
   "id": "dc80f06c-bbfd-4290-a086-78f384d7d2e3",
   "metadata": {},
   "source": [
    "##  Handle Biomarker Missing Values"
   ]
  },
  {
   "cell_type": "code",
   "execution_count": null,
   "id": "f4942bc5-cded-4260-9328-9e232bff910a",
   "metadata": {},
   "outputs": [],
   "source": []
  },
  {
   "cell_type": "markdown",
   "id": "a64b1035-3e05-4486-aac6-478aeb864d82",
   "metadata": {},
   "source": [
    "## Transform Biomarkers"
   ]
  },
  {
   "cell_type": "code",
   "execution_count": null,
   "id": "32f4ed8e-0a96-42b4-bb2f-39f5dc76bf9d",
   "metadata": {},
   "outputs": [],
   "source": []
  },
  {
   "cell_type": "code",
   "execution_count": null,
   "id": "4a6f6e7b-e221-4839-bd66-b7a55af7cb7d",
   "metadata": {},
   "outputs": [],
   "source": []
  },
  {
   "cell_type": "code",
   "execution_count": null,
   "id": "1a727ab9-96b7-45ee-b59b-f5f377a6db92",
   "metadata": {},
   "outputs": [],
   "source": []
  },
  {
   "cell_type": "markdown",
   "id": "f2c3cf08-32ff-48b6-b638-5bdb3075a605",
   "metadata": {},
   "source": [
    "# Exploratory Data Analysis (EDA)"
   ]
  },
  {
   "cell_type": "markdown",
   "id": "6c0e2a25-d7b3-44a4-9b59-5204efc6ea2f",
   "metadata": {},
   "source": [
    "## Demographic Distributions"
   ]
  },
  {
   "cell_type": "code",
   "execution_count": null,
   "id": "d1ec008e-154b-45b4-9cd1-5d3ba644e263",
   "metadata": {},
   "outputs": [],
   "source": [
    "# Age Distribution"
   ]
  },
  {
   "cell_type": "code",
   "execution_count": null,
   "id": "cc1b247a-8cfd-4c1b-a658-8949a05c847e",
   "metadata": {},
   "outputs": [],
   "source": [
    "# BMI Distribution"
   ]
  },
  {
   "cell_type": "code",
   "execution_count": null,
   "id": "faf7f6b8-f49d-4774-aac4-a0ca1123d8ea",
   "metadata": {},
   "outputs": [],
   "source": [
    "# Sex Distribution"
   ]
  },
  {
   "cell_type": "code",
   "execution_count": null,
   "id": "a1ea523a-7413-45bc-9494-4f5f0c2c966e",
   "metadata": {},
   "outputs": [],
   "source": []
  },
  {
   "cell_type": "markdown",
   "id": "c325c299-a876-46b0-8fac-04841fbb89c7",
   "metadata": {},
   "source": [
    "## Outcome Variable Analysis"
   ]
  },
  {
   "cell_type": "code",
   "execution_count": null,
   "id": "512739cf-9120-49f5-9239-5fb6cfe44d87",
   "metadata": {},
   "outputs": [],
   "source": []
  },
  {
   "cell_type": "code",
   "execution_count": null,
   "id": "7b245960-2ae9-4239-a5f7-da97d11d14d5",
   "metadata": {},
   "outputs": [],
   "source": []
  },
  {
   "cell_type": "markdown",
   "id": "633bbe7b-103e-46c9-9d19-6373c0195149",
   "metadata": {},
   "source": [
    "# Statistical Analysis"
   ]
  },
  {
   "cell_type": "markdown",
   "id": "9a0c0bdb-3827-446e-991a-81301c22046d",
   "metadata": {},
   "source": [
    "## Univariate Logistic Regression for Each Biomarker"
   ]
  },
  {
   "cell_type": "code",
   "execution_count": null,
   "id": "95ad8fc1-1d1e-41eb-a431-34574a1723d4",
   "metadata": {},
   "outputs": [],
   "source": []
  },
  {
   "cell_type": "code",
   "execution_count": null,
   "id": "237c21fe-c20c-4e54-bcff-f1a8ca518941",
   "metadata": {},
   "outputs": [],
   "source": []
  },
  {
   "cell_type": "markdown",
   "id": "9c6ab61d-71b5-48af-8bbb-d5ee467d7400",
   "metadata": {},
   "source": [
    "## Multiple Testing Correction"
   ]
  },
  {
   "cell_type": "code",
   "execution_count": null,
   "id": "1bddd3db-25eb-4ca1-988b-097faa7695b6",
   "metadata": {},
   "outputs": [],
   "source": []
  },
  {
   "cell_type": "code",
   "execution_count": null,
   "id": "189e9fc6-7f25-4b5e-95e5-808f452972ef",
   "metadata": {},
   "outputs": [],
   "source": []
  },
  {
   "cell_type": "markdown",
   "id": "6ee302a0-ac5d-49d6-9e3a-42bb4147d33d",
   "metadata": {},
   "source": [
    "## Identify Significant Biomarkers"
   ]
  },
  {
   "cell_type": "code",
   "execution_count": null,
   "id": "103e7f2b-b8ce-415f-ab01-9d6ff129427d",
   "metadata": {},
   "outputs": [],
   "source": []
  },
  {
   "cell_type": "code",
   "execution_count": null,
   "id": "cff1936a-3549-4531-8786-9082d4bc9080",
   "metadata": {},
   "outputs": [],
   "source": []
  },
  {
   "cell_type": "code",
   "execution_count": null,
   "id": "c8ba0bd7-910f-42ac-959a-c4beaf8ba2fd",
   "metadata": {},
   "outputs": [],
   "source": []
  },
  {
   "cell_type": "markdown",
   "id": "66cb1921-1fbe-40b6-8015-45c9e8641cd1",
   "metadata": {},
   "source": [
    "# Visualization of Significant Biomarkers"
   ]
  },
  {
   "cell_type": "markdown",
   "id": "65d791d6-0aa5-4638-9dff-988775416563",
   "metadata": {},
   "source": [
    "## Plot Top Significant Biomarkers"
   ]
  },
  {
   "cell_type": "code",
   "execution_count": null,
   "id": "80313cde-b8af-4a83-90d1-f584c76b317f",
   "metadata": {},
   "outputs": [],
   "source": []
  },
  {
   "cell_type": "code",
   "execution_count": null,
   "id": "67d79cda-718a-4060-a4dc-6f9be3945605",
   "metadata": {},
   "outputs": [],
   "source": []
  },
  {
   "cell_type": "markdown",
   "id": "4cf4d6f7-34bc-447f-b5f3-4e0fbbb6afdd",
   "metadata": {},
   "source": [
    "# Machine Learning Model"
   ]
  },
  {
   "cell_type": "markdown",
   "id": "05914f5e-26e1-4a0f-8cf1-5bcf103b68c0",
   "metadata": {},
   "source": [
    "## Feature Selection"
   ]
  },
  {
   "cell_type": "code",
   "execution_count": null,
   "id": "8061f40a-ff43-42e0-b2a3-580f157c2b7d",
   "metadata": {},
   "outputs": [],
   "source": []
  },
  {
   "cell_type": "markdown",
   "id": "2f3e5db3-4beb-4594-9b20-d890df026b33",
   "metadata": {},
   "source": [
    "## Data Splitting"
   ]
  },
  {
   "cell_type": "code",
   "execution_count": null,
   "id": "c7afdd83-7a7c-4862-9d2d-a9fd2cc144b3",
   "metadata": {},
   "outputs": [],
   "source": []
  },
  {
   "cell_type": "markdown",
   "id": "8f0eb218-d165-406e-bc5f-342166f23592",
   "metadata": {},
   "source": [
    "## Model Training"
   ]
  },
  {
   "cell_type": "code",
   "execution_count": null,
   "id": "04ab50b4-9dc8-4291-b318-512bbfd1a67c",
   "metadata": {},
   "outputs": [],
   "source": []
  },
  {
   "cell_type": "markdown",
   "id": "2993320e-0a33-4fbf-9fc6-6f5857fc8409",
   "metadata": {},
   "source": [
    "## Model Evaluation"
   ]
  },
  {
   "cell_type": "markdown",
   "id": "257fe0e4-6bb5-47af-a9c6-dcabc0488472",
   "metadata": {},
   "source": [
    "### ROC AUC Score"
   ]
  },
  {
   "cell_type": "code",
   "execution_count": null,
   "id": "491ebf3e-33d5-465f-ac93-118d7eb5d17f",
   "metadata": {},
   "outputs": [],
   "source": []
  },
  {
   "cell_type": "markdown",
   "id": "8774213a-391f-4be7-a81d-eead7bc53e87",
   "metadata": {},
   "source": [
    "### Classification Report"
   ]
  },
  {
   "cell_type": "code",
   "execution_count": null,
   "id": "5b84d51c-c7ea-4236-95c7-10397c9c53ef",
   "metadata": {},
   "outputs": [],
   "source": []
  },
  {
   "cell_type": "markdown",
   "id": "485885cd-17f3-4be8-9f65-cf66555867a6",
   "metadata": {},
   "source": [
    "### Confusion Matrix"
   ]
  },
  {
   "cell_type": "code",
   "execution_count": null,
   "id": "3e25d892-1678-4936-a933-f819710e219e",
   "metadata": {},
   "outputs": [],
   "source": []
  },
  {
   "cell_type": "markdown",
   "id": "ae2a4d19-2f90-4050-88ff-1f67f69ff92d",
   "metadata": {},
   "source": [
    "## ROC Curve"
   ]
  },
  {
   "cell_type": "code",
   "execution_count": null,
   "id": "787ba786-a494-4efe-a28c-f2dd6ecd0fb5",
   "metadata": {},
   "outputs": [],
   "source": []
  },
  {
   "cell_type": "code",
   "execution_count": null,
   "id": "66386fad-9c6e-4d3b-89ea-23d0bafe822e",
   "metadata": {},
   "outputs": [],
   "source": []
  },
  {
   "cell_type": "markdown",
   "id": "bf15a9aa-542e-4052-8cfa-43d13e9094e8",
   "metadata": {},
   "source": [
    "# Discussion"
   ]
  },
  {
   "cell_type": "markdown",
   "id": "6f8cd7a6-ae71-4674-b02a-7953dcedbe17",
   "metadata": {},
   "source": [
    "## Interpretation of Significant Biomarkers"
   ]
  },
  {
   "cell_type": "code",
   "execution_count": null,
   "id": "b31310dc-7ff8-4118-890b-cadb49c9f69e",
   "metadata": {},
   "outputs": [],
   "source": []
  },
  {
   "cell_type": "markdown",
   "id": "248ac0e5-9998-466e-9d7a-674bcc0e1fba",
   "metadata": {},
   "source": [
    "## Model Performance"
   ]
  },
  {
   "cell_type": "code",
   "execution_count": null,
   "id": "d7e89ce7-79d7-4a68-a4a7-3461ccc8a826",
   "metadata": {},
   "outputs": [],
   "source": []
  },
  {
   "cell_type": "markdown",
   "id": "afe4025b-04ae-446f-953b-0cae8bfcc8ef",
   "metadata": {},
   "source": [
    "## Limitations"
   ]
  },
  {
   "cell_type": "code",
   "execution_count": null,
   "id": "bb0c7f60-156c-4aeb-9b87-18887e411f9e",
   "metadata": {},
   "outputs": [],
   "source": []
  },
  {
   "cell_type": "code",
   "execution_count": null,
   "id": "26d51c02-54d6-420e-823d-ee5036abc386",
   "metadata": {},
   "outputs": [],
   "source": []
  },
  {
   "cell_type": "markdown",
   "id": "c60d71af-a854-4d69-94b1-831e0466ea20",
   "metadata": {},
   "source": [
    "# Conclusion"
   ]
  },
  {
   "cell_type": "code",
   "execution_count": null,
   "id": "2d5b56dc-cbf4-4e90-b80d-d24eafe87e88",
   "metadata": {},
   "outputs": [],
   "source": []
  },
  {
   "cell_type": "code",
   "execution_count": null,
   "id": "2d05ce04-4f50-4420-adc6-a154f79dec24",
   "metadata": {},
   "outputs": [],
   "source": []
  },
  {
   "cell_type": "markdown",
   "id": "61b3200e-2984-496d-bc6c-7aaaa72b5221",
   "metadata": {},
   "source": [
    "# References"
   ]
  },
  {
   "cell_type": "code",
   "execution_count": null,
   "id": "f62b3caa-c26e-4d12-b6c2-76a2846d9a66",
   "metadata": {},
   "outputs": [],
   "source": []
  },
  {
   "cell_type": "code",
   "execution_count": null,
   "id": "218980f8-ccfe-49cc-991a-757546aa3ffd",
   "metadata": {},
   "outputs": [],
   "source": []
  }
 ],
 "metadata": {
  "kernelspec": {
   "display_name": "Python 3 (ipykernel)",
   "language": "python",
   "name": "python3"
  },
  "language_info": {
   "codemirror_mode": {
    "name": "ipython",
    "version": 3
   },
   "file_extension": ".py",
   "mimetype": "text/x-python",
   "name": "python",
   "nbconvert_exporter": "python",
   "pygments_lexer": "ipython3",
   "version": "3.8.3"
  }
 },
 "nbformat": 4,
 "nbformat_minor": 5
}
